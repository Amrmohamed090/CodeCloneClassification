{
 "cells": [
  {
   "cell_type": "code",
   "execution_count": 1,
   "metadata": {},
   "outputs": [
    {
     "name": "stdout",
     "output_type": "stream",
     "text": [
      "2.2.0+cu118\n",
      "11.8\n",
      "CUDA available: True\n",
      "PyTorch version: 2.2.0+cu118\n",
      "Is debug build: False\n",
      "CUDA used to build PyTorch: 11.8\n",
      "ROCM used to build PyTorch: N/A\n",
      "\n",
      "OS: Microsoft Windows 11 Pro\n",
      "GCC version: (Rev3, Built by MSYS2 project) 13.2.0\n",
      "Clang version: Could not collect\n",
      "CMake version: Could not collect\n",
      "Libc version: N/A\n",
      "\n",
      "Python version: 3.12.3 (tags/v3.12.3:f6650f9, Apr  9 2024, 14:05:25) [MSC v.1938 64 bit (AMD64)] (64-bit runtime)\n",
      "Python platform: Windows-11-10.0.22631-SP0\n",
      "Is CUDA available: True\n",
      "CUDA runtime version: 11.8.89\n",
      "CUDA_MODULE_LOADING set to: LAZY\n",
      "GPU models and configuration: GPU 0: NVIDIA GeForce RTX 2070\n",
      "Nvidia driver version: 556.12\n",
      "cuDNN version: Could not collect\n",
      "HIP runtime version: N/A\n",
      "MIOpen runtime version: N/A\n",
      "Is XNNPACK available: True\n",
      "\n",
      "CPU:\n",
      "Architecture=9\n",
      "CurrentClockSpeed=2592\n",
      "DeviceID=CPU0\n",
      "Family=198\n",
      "L2CacheSize=1536\n",
      "L2CacheSpeed=\n",
      "Manufacturer=GenuineIntel\n",
      "MaxClockSpeed=2592\n",
      "Name=Intel(R) Core(TM) i7-10750H CPU @ 2.60GHz\n",
      "ProcessorType=3\n",
      "Revision=\n",
      "\n",
      "Versions of relevant libraries:\n",
      "[pip3] numpy==1.26.3\n",
      "[pip3] torch==2.2.0+cu118\n",
      "[pip3] torch-tb-profiler==0.4.3\n",
      "[pip3] torchaudio==2.5.0\n",
      "[pip3] torchfm==0.7.0\n",
      "[pip3] torchvision==0.20.0\n",
      "[conda] Could not collect\n"
     ]
    }
   ],
   "source": [
    "import torch\n",
    "print(torch.__version__)  # Confirm torch version\n",
    "print(torch.version.cuda)  # Confirm CUDA version used by PyTorch\n",
    "print(\"CUDA available:\", torch.cuda.is_available())  # Check if CUDA is detected\n",
    "\n",
    "from torch.utils.collect_env import get_pretty_env_info\n",
    "print(get_pretty_env_info())  # This will print out detailed environment info\n"
   ]
  },
  {
   "cell_type": "code",
   "execution_count": 5,
   "metadata": {},
   "outputs": [
    {
     "data": {
      "text/plain": [
       "False"
      ]
     },
     "execution_count": 5,
     "metadata": {},
     "output_type": "execute_result"
    }
   ],
   "source": [
    "torch.cuda.is_available()"
   ]
  },
  {
   "cell_type": "code",
   "execution_count": null,
   "metadata": {},
   "outputs": [],
   "source": [
    "from transformers import AutoTokenizer, BertForSequenceClassification , AutoModelForSequenceClassification\n",
    "from transformers import AdamW\n",
    "\n",
    "\n",
    "\n",
    "tokenizer = AutoTokenizer.from_pretrained(\"shahrukhx01/question-vs-statement-classifier\")\n",
    "model = AutoModelForSequenceClassification.from_pretrained(\"shahrukhx01/question-vs-statement-classifier\", \n",
    "                                                           num_labels=len(ourClasses),ignore_mismatched_sizes=True\n",
    "                                                         )\n"
   ]
  },
  {
   "cell_type": "code",
   "execution_count": 2,
   "metadata": {},
   "outputs": [
    {
     "name": "stdout",
     "output_type": "stream",
     "text": [
      "[[1, 0], [1, 0], [1, 0]]\n",
      "[[0, 1], [1, 0], [1, 0]]\n"
     ]
    },
    {
     "data": {
      "text/plain": [
       "<__main__.test at 0x1f7d75dbfe0>"
      ]
     },
     "execution_count": 2,
     "metadata": {},
     "output_type": "execute_result"
    }
   ],
   "source": [
    "class test:\n",
    "    def __init__(self):\n",
    "        self.initeverything()\n",
    "    \n",
    "    def initeverything(self):\n",
    "        winner = [[1,0],[1,0],[1,0]]\n",
    "        print(winner)\n",
    "        self.change_array(winner[0])\n",
    "        print(winner)\n",
    "    def change_array(self, winner_sub):\n",
    "        winner_sub[0] = 0\n",
    "        winner_sub[1] = 1\n",
    "test()"
   ]
  },
  {
   "cell_type": "code",
   "execution_count": null,
   "metadata": {},
   "outputs": [],
   "source": []
  }
 ],
 "metadata": {
  "kernelspec": {
   "display_name": "env",
   "language": "python",
   "name": "python3"
  },
  "language_info": {
   "codemirror_mode": {
    "name": "ipython",
    "version": 3
   },
   "file_extension": ".py",
   "mimetype": "text/x-python",
   "name": "python",
   "nbconvert_exporter": "python",
   "pygments_lexer": "ipython3",
   "version": "3.12.3"
  }
 },
 "nbformat": 4,
 "nbformat_minor": 2
}
